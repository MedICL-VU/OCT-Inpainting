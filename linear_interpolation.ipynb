{
 "cells": [
  {
   "cell_type": "code",
   "execution_count": 1,
   "metadata": {},
   "outputs": [
    {
     "name": "stdout",
     "output_type": "stream",
     "text": [
      "Inpainted volume saved to: /media/admin/Expansion/Mosaic_Data_for_Ipeks_Group/OCT_Inpainting_Testing/5.3_OCT_uint16_Cropped_Reflected_VolumeSplit_1_RegSeq_seqSVD_corrupted_LinearInterp.tif\n"
     ]
    }
   ],
   "source": [
    "import numpy as np\n",
    "import tifffile as tiff\n",
    "\n",
    "def linear_interpolate(volume, mask):\n",
    "    \"\"\"\n",
    "    Linearly interpolate missing B-scans along axis 0.\n",
    "    \n",
    "    Args:\n",
    "        volume (np.ndarray): Corrupted OCTA volume (D, H, W)\n",
    "        mask (np.ndarray): Binary mask (D,) where 1 = missing, 0 = present\n",
    "    \n",
    "    Returns:\n",
    "        np.ndarray: Inpainted volume\n",
    "    \"\"\"\n",
    "    filled = volume.copy()\n",
    "    D = volume.shape[0]\n",
    "    known_indices = np.where(mask == 0)[0]\n",
    "    missing_indices = np.where(mask == 1)[0]\n",
    "\n",
    "    for idx in missing_indices:\n",
    "        lower_known = known_indices[known_indices < idx]\n",
    "        upper_known = known_indices[known_indices > idx]\n",
    "\n",
    "        if len(lower_known) == 0 or len(upper_known) == 0:\n",
    "            # Use nearest known slice if interpolation is not possible\n",
    "            nearest = lower_known[-1] if len(lower_known) else upper_known[0]\n",
    "            filled[idx] = volume[nearest]\n",
    "        else:\n",
    "            lower = lower_known[-1]\n",
    "            upper = upper_known[0]\n",
    "            alpha = (idx - lower) / (upper - lower + 1e-5)\n",
    "            filled[idx] = (1 - alpha) * volume[lower] + alpha * volume[upper]\n",
    "\n",
    "    return filled\n",
    "\n",
    "def load_volume_and_mask(volume_path, mask_path):\n",
    "    volume = tiff.imread(volume_path)\n",
    "    mask_volume = tiff.imread(mask_path)\n",
    "    if mask_volume.ndim == 3:\n",
    "        mask = (mask_volume[:, 0, 0] > 0).astype(np.uint8)\n",
    "    else:\n",
    "        mask = mask_volume.astype(np.uint8)\n",
    "    return volume, mask\n",
    "\n",
    "def save_inpainted_volume(volume, out_path):\n",
    "    tiff.imwrite(out_path, volume.astype(np.uint16))\n",
    "\n",
    "# === Pipeline Execution ===\n",
    "\n",
    "# File paths\n",
    "corrupted_path = '/media/admin/Expansion/Mosaic_Data_for_Ipeks_Group/OCT_Inpainting_Testing/5.3_OCT_uint16_Cropped_Reflected_VolumeSplit_1_RegSeq_seqSVD_corrupted.tif'\n",
    "mask_path = '/media/admin/Expansion/Mosaic_Data_for_Ipeks_Group/OCT_Inpainting_Testing/5.3_OCT_uint16_Cropped_Reflected_VolumeSplit_1_RegSeq_seqSVD_mask.tif'\n",
    "output_path = '/media/admin/Expansion/Mosaic_Data_for_Ipeks_Group/OCT_Inpainting_Testing/5.3_OCT_uint16_Cropped_Reflected_VolumeSplit_1_RegSeq_seqSVD_corrupted_LinearInterp.tif'\n",
    "\n",
    "# Step 1: Load corrupted volume and mask\n",
    "volume, mask = load_volume_and_mask(corrupted_path, mask_path)\n",
    "\n",
    "# Step 2: Inpaint with linear interpolation\n",
    "inpainted_volume = linear_interpolate(volume, mask)\n",
    "\n",
    "# Step 3: Save as TIF (no metadata)\n",
    "save_inpainted_volume(inpainted_volume, output_path)\n",
    "\n",
    "print(f\"Inpainted volume saved to: {output_path}\")\n"
   ]
  },
  {
   "cell_type": "code",
   "execution_count": null,
   "metadata": {},
   "outputs": [],
   "source": []
  }
 ],
 "metadata": {
  "kernelspec": {
   "display_name": "Python 3",
   "language": "python",
   "name": "python3"
  },
  "language_info": {
   "codemirror_mode": {
    "name": "ipython",
    "version": 3
   },
   "file_extension": ".py",
   "mimetype": "text/x-python",
   "name": "python",
   "nbconvert_exporter": "python",
   "pygments_lexer": "ipython3",
   "version": "3.10.12"
  }
 },
 "nbformat": 4,
 "nbformat_minor": 2
}
