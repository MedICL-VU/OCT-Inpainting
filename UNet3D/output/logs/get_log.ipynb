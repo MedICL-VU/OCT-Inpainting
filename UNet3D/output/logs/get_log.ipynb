{
 "cells": [
  {
   "cell_type": "code",
   "execution_count": null,
   "metadata": {},
   "outputs": [
    {
     "name": "stdout",
     "output_type": "stream",
     "text": [
      "[Epoch 1] Train Loss: 0.1428 | Val Loss: 0.0613\n",
      "[Epoch 2] Train Loss: 0.0495 | Val Loss: 0.0499\n",
      "[Epoch 3] Train Loss: 0.0428 | Val Loss: 0.0486\n",
      "[Epoch 4] Train Loss: 0.0402 | Val Loss: 0.0450\n",
      "[Epoch 5] Train Loss: 0.0387 | Val Loss: 0.0434\n",
      "[Epoch 6] Train Loss: 0.0379 | Val Loss: 0.0422\n",
      "[Epoch 7] Train Loss: 0.0373 | Val Loss: 0.0423\n",
      "[Epoch 8] Train Loss: 0.0367 | Val Loss: 0.0411\n",
      "[Epoch 9] Train Loss: 0.0362 | Val Loss: 0.0409\n",
      "[Epoch 10] Train Loss: 0.0357 | Val Loss: 0.0404\n",
      "[Epoch 11] Train Loss: 0.0353 | Val Loss: 0.0398\n",
      "[Epoch 12] Train Loss: 0.0349 | Val Loss: 0.0399\n",
      "[Epoch 13] Train Loss: 0.0345 | Val Loss: 0.0398\n",
      "[Epoch 14] Train Loss: 0.0341 | Val Loss: 0.0392\n",
      "[Epoch 15] Train Loss: 0.0337 | Val Loss: 0.0388\n",
      "[Epoch 16] Train Loss: 0.0335 | Val Loss: 0.0386\n",
      "[Epoch 17] Train Loss: 0.0330 | Val Loss: 0.0380\n",
      "[Epoch 18] Train Loss: 0.0327 | Val Loss: 0.0382\n",
      "[Epoch 19] Train Loss: 0.0324 | Val Loss: 0.0385\n",
      "[Epoch 20] Train Loss: 0.0322 | Val Loss: 0.0374\n",
      "[Epoch 21] Train Loss: 0.0320 | Val Loss: 0.0375\n",
      "[Epoch 22] Train Loss: 0.0316 | Val Loss: 0.0376\n",
      "[Epoch 23] Train Loss: 0.0314 | Val Loss: 0.0373\n",
      "[Epoch 24] Train Loss: 0.0312 | Val Loss: 0.0366\n",
      "[Epoch 25] Train Loss: 0.0308 | Val Loss: 0.0368\n",
      "[Epoch 26] Train Loss: 0.0306 | Val Loss: 0.0363\n",
      "[Epoch 27] Train Loss: 0.0304 | Val Loss: 0.0358\n",
      "[Epoch 28] Train Loss: 0.0302 | Val Loss: 0.0360\n",
      "[Epoch 29] Train Loss: 0.0299 | Val Loss: 0.0362\n",
      "[Epoch 30] Train Loss: 0.0297 | Val Loss: 0.0355\n",
      "[Epoch 31] Train Loss: 0.0295 | Val Loss: 0.0356\n",
      "[Epoch 32] Train Loss: 0.0293 | Val Loss: 0.0355\n",
      "[Epoch 33] Train Loss: 0.0291 | Val Loss: 0.0354\n",
      "[Epoch 34] Train Loss: 0.0290 | Val Loss: 0.0351\n",
      "[Epoch 35] Train Loss: 0.0288 | Val Loss: 0.0354\n",
      "[Epoch 36] Train Loss: 0.0288 | Val Loss: 0.0348\n",
      "[Epoch 37] Train Loss: 0.0285 | Val Loss: 0.0345\n",
      "[Epoch 38] Train Loss: 0.0283 | Val Loss: 0.0348\n",
      "[Epoch 39] Train Loss: 0.0282 | Val Loss: 0.0346\n",
      "[Epoch 40] Train Loss: 0.0281 | Val Loss: 0.0345\n",
      "[Epoch 41] Train Loss: 0.0279 | Val Loss: 0.0342\n",
      "[Epoch 42] Train Loss: 0.0277 | Val Loss: 0.0344\n",
      "[Epoch 43] Train Loss: 0.0277 | Val Loss: 0.0345\n",
      "[Epoch 44] Train Loss: 0.0276 | Val Loss: 0.0341\n",
      "[Epoch 45] Train Loss: 0.0274 | Val Loss: 0.0339\n",
      "[Epoch 46] Train Loss: 0.0273 | Val Loss: 0.0345\n",
      "[Epoch 47] Train Loss: 0.0272 | Val Loss: 0.0348\n",
      "[Epoch 48] Train Loss: 0.0271 | Val Loss: 0.0342\n",
      "[Epoch 49] Train Loss: 0.0275 | Val Loss: 0.0338\n",
      "[Epoch 50] Train Loss: 0.0270 | Val Loss: 0.0342\n"
     ]
    }
   ],
   "source": [
    "# Open the file and read lines\n",
    "with open('run_log_20250421_222603.txt', 'r') as file:\n",
    "    for line in file:\n",
    "        if line.startswith('[Epoch'):\n",
    "            print(line.strip())"
   ]
  },
  {
   "cell_type": "code",
   "execution_count": null,
   "metadata": {},
   "outputs": [
    {
     "name": "stdout",
     "output_type": "stream",
     "text": [
      "[Epoch 1] Train Loss: 0.3111 | Val Loss: 0.2566\n",
      "[Epoch 2] Train Loss: 0.1584 | Val Loss: 0.1621\n",
      "[Epoch 3] Train Loss: 0.1195 | Val Loss: 0.1146\n",
      "[Epoch 4] Train Loss: 0.1028 | Val Loss: 0.1115\n",
      "[Epoch 5] Train Loss: 0.0939 | Val Loss: 0.1000\n",
      "[Epoch 6] Train Loss: 0.0846 | Val Loss: 0.0865\n",
      "[Epoch 7] Train Loss: 0.0815 | Val Loss: 0.0875\n",
      "[Epoch 8] Train Loss: 0.0788 | Val Loss: 0.0818\n",
      "[Epoch 9] Train Loss: 0.0747 | Val Loss: 0.0859\n",
      "[Epoch 10] Train Loss: 0.0717 | Val Loss: 0.0916\n",
      "[Epoch 11] Train Loss: 0.0706 | Val Loss: 0.1255\n",
      "[Epoch 12] Train Loss: 0.0699 | Val Loss: 0.0896\n",
      "[Epoch 13] Train Loss: 0.0702 | Val Loss: 0.0841\n"
     ]
    }
   ],
   "source": [
    "# Open the file and read lines\n",
    "with open('run_log_20250422_005128.txt', 'r') as file:\n",
    "    for line in file:\n",
    "        if line.startswith('[Epoch'):\n",
    "            log(line.strip())"
   ]
  },
  {
   "cell_type": "code",
   "execution_count": null,
   "metadata": {},
   "outputs": [],
   "source": []
  }
 ],
 "metadata": {
  "kernelspec": {
   "display_name": "Python 3",
   "language": "python",
   "name": "python3"
  },
  "language_info": {
   "codemirror_mode": {
    "name": "ipython",
    "version": 3
   },
   "file_extension": ".py",
   "mimetype": "text/x-python",
   "name": "python",
   "nbconvert_exporter": "python",
   "pygments_lexer": "ipython3",
   "version": "3.10.12"
  }
 },
 "nbformat": 4,
 "nbformat_minor": 2
}
