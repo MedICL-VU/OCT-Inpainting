{
 "cells": [
  {
   "cell_type": "code",
   "execution_count": 6,
   "metadata": {},
   "outputs": [],
   "source": [
    "import numpy as np\n",
    "import tifffile as tiff\n",
    "from skimage.metrics import peak_signal_noise_ratio as psnr\n",
    "from skimage.metrics import structural_similarity as ssim\n",
    "from utils import log\n",
    "\n",
    "def load_volume(path):\n",
    "    return tiff.imread(path).astype(np.float32)\n",
    "\n",
    "def normalize(volume):\n",
    "    return volume / 65535.0  # normalize 16-bit to [0, 1]\n",
    "\n",
    "def compare_volumes(gt, method, mask, method_name):\n",
    "    psnr_list = []\n",
    "    ssim_list = []\n",
    "    mae_list = []\n",
    "    mse_list = []\n",
    "\n",
    "    for i in range(gt.shape[0]):\n",
    "        if mask[i].mean() > 0.5:  # Only evaluate missing slices\n",
    "            gt_slice = gt[i]\n",
    "            pred_slice = method[i]\n",
    "\n",
    "            mse_value = np.mean((gt_slice - pred_slice) ** 2)\n",
    "            mae_value = np.mean(np.abs(gt_slice - pred_slice))\n",
    "\n",
    "            if mse_value == 0:\n",
    "                psnr_score = 100.0\n",
    "            else:\n",
    "                psnr_score = psnr(gt_slice, pred_slice, data_range=1.0)\n",
    "\n",
    "            ssim_score = ssim(gt_slice, pred_slice, data_range=1.0)\n",
    "\n",
    "            psnr_list.append(psnr_score)\n",
    "            ssim_list.append(ssim_score)\n",
    "            mae_list.append(mae_value)\n",
    "            mse_list.append(mse_value)\n",
    "\n",
    "    avg_psnr = np.mean(psnr_list)\n",
    "    avg_ssim = np.mean(ssim_list)\n",
    "    avg_mae = np.mean(mae_list)\n",
    "    avg_mse = np.mean(mse_list)\n",
    "\n",
    "    log(f\"{method_name}:\")\n",
    "    log(f\"  Mean PSNR (missing slices only): {avg_psnr:.2f} dB\")\n",
    "    log(f\"  Mean SSIM (missing slices only): {avg_ssim:.4f}\")\n",
    "    log(f\"  Mean MAE  (missing slices only): {avg_mae:.6f}\")\n",
    "    log(f\"  Mean MSE  (missing slices only): {avg_mse:.6f}\")\n",
    "    log(\"-\" * 40)\n",
    "\n",
    "    return psnr_list, ssim_list, mae_list, mse_list\n",
    "\n",
    "def run_comparison(gt_path, linear_path, predicted_path, mask_path):\n",
    "    # Load volumes\n",
    "    gt = normalize(load_volume(gt_path))\n",
    "    linear = normalize(load_volume(linear_path))\n",
    "    predicted = normalize(load_volume(predicted_path))\n",
    "    mask = tiff.imread(mask_path)  # mask expected as uint8 or uint16 0/1 format\n",
    "\n",
    "    # Ensure shapes match\n",
    "    assert gt.shape == linear.shape == predicted.shape == mask.shape, \"Volumes and mask must match in shape!\"\n",
    "\n",
    "    # Compare volumes\n",
    "    compare_volumes(gt, linear, mask, \"Linear Interpolation\")\n",
    "    compare_volumes(gt, predicted, mask, \"2.5D CNN Prediction\")\n"
   ]
  },
  {
   "cell_type": "code",
   "execution_count": null,
   "metadata": {},
   "outputs": [],
   "source": []
  },
  {
   "cell_type": "code",
   "execution_count": 7,
   "metadata": {},
   "outputs": [
    {
     "name": "stdout",
     "output_type": "stream",
     "text": [
      "Linear Interpolation:\n",
      "  Mean PSNR (missing slices only): 34.78 dB\n",
      "  Mean SSIM (missing slices only): 0.7956\n",
      "  Mean MAE  (missing slices only): 0.012557\n",
      "  Mean MSE  (missing slices only): 0.000335\n",
      "----------------------------------------\n",
      "2.5D CNN Prediction:\n",
      "  Mean PSNR (missing slices only): 36.03 dB\n",
      "  Mean SSIM (missing slices only): 0.8457\n",
      "  Mean MAE  (missing slices only): 0.010603\n",
      "  Mean MSE  (missing slices only): 0.000252\n",
      "----------------------------------------\n"
     ]
    }
   ],
   "source": [
    "run_comparison(\n",
    "    gt_path=\"/media/admin/Expansion/Mosaic_Data_for_Ipeks_Group/OCT_Inpainting_Testing/5.3_OCT_uint16_Cropped_Reflected_VolumeSplit_1_RegSeq_seqSVD_gt.tif\",\n",
    "    linear_path=\"/media/admin/Expansion/Mosaic_Data_for_Ipeks_Group/OCT_Inpainting_Testing/5.3_OCT_uint16_Cropped_Reflected_VolumeSplit_1_RegSeq_seqSVD_corrupted_LinearInterp.tif\",\n",
    "    predicted_path=\"/media/admin/Expansion/Mosaic_Data_for_Ipeks_Group/OCT_Inpainting_Testing/5.3_OCT_uint16_Cropped_Reflected_VolumeSplit_1_RegSeq_seqSVD_inpainted_2p5DUNet_v4_brightcorr.tif\",\n",
    "    mask_path=\"/media/admin/Expansion/Mosaic_Data_for_Ipeks_Group/OCT_Inpainting_Testing/5.3_OCT_uint16_Cropped_Reflected_VolumeSplit_1_RegSeq_seqSVD_mask.tif\"\n",
    ")"
   ]
  },
  {
   "cell_type": "code",
   "execution_count": null,
   "metadata": {},
   "outputs": [],
   "source": []
  }
 ],
 "metadata": {
  "kernelspec": {
   "display_name": "Python 3",
   "language": "python",
   "name": "python3"
  },
  "language_info": {
   "codemirror_mode": {
    "name": "ipython",
    "version": 3
   },
   "file_extension": ".py",
   "mimetype": "text/x-python",
   "name": "python",
   "nbconvert_exporter": "python",
   "pygments_lexer": "ipython3",
   "version": "3.10.12"
  }
 },
 "nbformat": 4,
 "nbformat_minor": 2
}
